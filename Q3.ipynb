{
 "cells": [
  {
   "cell_type": "code",
   "execution_count": 107,
   "metadata": {},
   "outputs": [],
   "source": [
    "import pandas as pd\n",
    "import numpy as np\n",
    "import random as rd\n",
    "import matplotlib.pyplot as plt\n",
    "from sklearn.cluster import KMeans"
   ]
  },
  {
   "cell_type": "code",
   "execution_count": 108,
   "metadata": {},
   "outputs": [
    {
     "name": "stdout",
     "output_type": "stream",
     "text": [
      "          X        Y\n",
      "0  0.986664  5.00000\n",
      "1  0.986664  5.00000\n",
      "2  0.986664  5.00000\n",
      "3  0.986664  5.62529\n"
     ]
    }
   ],
   "source": [
    "data = pd.read_excel('Dataset_2C.xls')\n",
    "seed_centroids = data.iloc[:4]\n",
    "data = data.iloc[4:]\n",
    "data.head()\n",
    "print(seed_centroids)"
   ]
  },
  {
   "cell_type": "code",
   "execution_count": 109,
   "metadata": {},
   "outputs": [
    {
     "data": {
      "text/plain": [
       "<matplotlib.collections.PathCollection at 0x7feee977e850>"
      ]
     },
     "execution_count": 109,
     "metadata": {},
     "output_type": "execute_result"
    },
    {
     "data": {
      "image/png": "[encoded data removed]",
      "text/plain": [
       "<Figure size 432x288 with 1 Axes>"
      ]
     },
     "metadata": {
      "needs_background": "light"
     },
     "output_type": "display_data"
    }
   ],
   "source": [
    "plt.scatter(data['X'], data['Y'], cmap='rainbow')"
   ]
  },
  {
   "cell_type": "code",
   "execution_count": null,
   "metadata": {},
   "outputs": [],
   "source": []
  },
  {
   "cell_type": "code",
   "execution_count": 123,
   "metadata": {},
   "outputs": [
    {
     "name": "stderr",
     "output_type": "stream",
     "text": [
      "/Users/nabeel/opt/anaconda3/lib/python3.8/site-packages/sklearn/cluster/_kmeans.py:1035: RuntimeWarning: Explicit initial center position passed: performing only one init in KMeans instead of n_init=10.\n",
      "  self._check_params(X)\n"
     ]
    }
   ],
   "source": [
    "kmeans3 = KMeans(n_clusters=4, init = seed_centroids, max_iter = 2)\n",
    "y_kmeans3 = kmeans3.fit_predict(data)\n",
    "#print(y_kmeans3)\n",
    "\n",
    "newcentroids = kmeans3.cluster_centers_"
   ]
  },
  {
   "cell_type": "code",
   "execution_count": 124,
   "metadata": {},
   "outputs": [
    {
     "data": {
      "text/plain": [
       "<matplotlib.collections.PathCollection at 0x7feee9e08b20>"
      ]
     },
     "execution_count": 124,
     "metadata": {},
     "output_type": "execute_result"
    },
    {
     "data": {
      "image/png": "[encoded data removed]",
      "text/plain": [
       "<Figure size 432x288 with 1 Axes>"
      ]
     },
     "metadata": {
      "needs_background": "light"
     },
     "output_type": "display_data"
    }
   ],
   "source": [
    "plt.scatter(data['X'], data['Y'],c=y_kmeans3, cmap=\"rainbow\")\n",
    "plt.scatter(newcentroids[:, 0], newcentroids[:, 1])"
   ]
  },
  {
   "cell_type": "code",
   "execution_count": 137,
   "metadata": {},
   "outputs": [
    {
     "name": "stdout",
     "output_type": "stream",
     "text": [
      "          X        Y\n",
      "4  0.986664  5.62539\n",
      "5  0.986664  5.64631\n"
     ]
    },
    {
     "name": "stderr",
     "output_type": "stream",
     "text": [
      "/Users/nabeel/opt/anaconda3/lib/python3.8/site-packages/sklearn/cluster/_kmeans.py:1035: RuntimeWarning: Explicit initial center position passed: performing only one init in KMeans instead of n_init=10.\n",
      "  self._check_params(X)\n"
     ]
    },
    {
     "data": {
      "text/plain": [
       "<matplotlib.collections.PathCollection at 0x7feeea693430>"
      ]
     },
     "execution_count": 137,
     "metadata": {},
     "output_type": "execute_result"
    },
    {
     "data": {
      "image/png": "[encoded data removed]",
      "text/plain": [
       "<Figure size 432x288 with 1 Axes>"
      ]
     },
     "metadata": {
      "needs_background": "light"
     },
     "output_type": "display_data"
    }
   ],
   "source": [
    "# above it can be seen that only two clusters are formed (for max iters = 2)\n",
    "\"\"\"\n",
    "As value of k increases, probability of getting empty clusters also increases. \n",
    "A simple way to get over this is by running the kmeans a number of times over a set of different values of clusters\n",
    "and seed centroids.\n",
    "A second approach to solving this problem can be placing a random data point to the empty cluster and move forward\n",
    "if there is an absolute requirement of the k number of clusters, otherwise k-1 number of clusters can be set for \n",
    "initialization for next iteration\n",
    "\n",
    "Using k-1 clusters approach is shown below\n",
    "\"\"\"\n",
    "seed_centroids = data.iloc[:2]\n",
    "print(seed_centroids)\n",
    "kmeans2 = KMeans(n_clusters=2, init = seed_centroids, max_iter = 2)\n",
    "y_kmeans2 = kmeans2.fit_predict(data)\n",
    "#print(y_kmeans3)\n",
    "\n",
    "newcentroids = kmeans2.cluster_centers_\n",
    "plt.close()\n",
    "plt.scatter(data['X'], data['Y'],c=y_kmeans2, cmap=\"rainbow\")\n",
    "plt.scatter(newcentroids[:, 0], newcentroids[:, 1])"
   ]
  },
  {
   "cell_type": "code",
   "execution_count": null,
   "metadata": {},
   "outputs": [],
   "source": []
  }
 ],
 "metadata": {
  "kernelspec": {
   "display_name": "Python 3",
   "language": "python",
   "name": "python3"
  },
  "language_info": {
   "codemirror_mode": {
    "name": "ipython",
    "version": 3
   },
   "file_extension": ".py",
   "mimetype": "text/x-python",
   "name": "python",
   "nbconvert_exporter": "python",
   "pygments_lexer": "ipython3",
   "version": "3.8.5"
  }
 },
 "nbformat": 4,
 "nbformat_minor": 4
}
